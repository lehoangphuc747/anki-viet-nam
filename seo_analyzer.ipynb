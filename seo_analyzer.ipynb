{
 "cells": [
  {
   "cell_type": "code",
   "execution_count": 5,
   "metadata": {},
   "outputs": [
    {
     "name": "stdout",
     "output_type": "stream",
     "text": [
      "Requirement already satisfied: hf-seo-analyzer in c:\\python312\\lib\\site-packages (0.1.4)\n",
      "Requirement already satisfied: requests in c:\\python312\\lib\\site-packages (from hf-seo-analyzer) (2.32.3)\n",
      "Requirement already satisfied: PyYAML in c:\\python312\\lib\\site-packages (from hf-seo-analyzer) (6.0.2)\n",
      "Collecting argparse (from hf-seo-analyzer)\n",
      "  Using cached argparse-1.4.0-py2.py3-none-any.whl.metadata (2.8 kB)\n",
      "Requirement already satisfied: markdownify in c:\\python312\\lib\\site-packages (from hf-seo-analyzer) (0.14.1)\n",
      "Requirement already satisfied: beautifulsoup4<5,>=4.9 in c:\\python312\\lib\\site-packages (from markdownify->hf-seo-analyzer) (4.12.3)\n",
      "Requirement already satisfied: six<2,>=1.15 in c:\\users\\admin\\appdata\\roaming\\python\\python312\\site-packages (from markdownify->hf-seo-analyzer) (1.17.0)\n",
      "Requirement already satisfied: charset-normalizer<4,>=2 in c:\\python312\\lib\\site-packages (from requests->hf-seo-analyzer) (3.4.0)\n",
      "Requirement already satisfied: idna<4,>=2.5 in c:\\python312\\lib\\site-packages (from requests->hf-seo-analyzer) (3.10)\n",
      "Requirement already satisfied: urllib3<3,>=1.21.1 in c:\\python312\\lib\\site-packages (from requests->hf-seo-analyzer) (2.2.3)\n",
      "Requirement already satisfied: certifi>=2017.4.17 in c:\\python312\\lib\\site-packages (from requests->hf-seo-analyzer) (2024.12.14)\n",
      "Requirement already satisfied: soupsieve>1.2 in c:\\python312\\lib\\site-packages (from beautifulsoup4<5,>=4.9->markdownify->hf-seo-analyzer) (2.6)\n",
      "Using cached argparse-1.4.0-py2.py3-none-any.whl (23 kB)\n",
      "Installing collected packages: argparse\n",
      "Successfully installed argparse-1.4.0\n"
     ]
    }
   ],
   "source": [
    "!pip install -U hf-seo-analyzer"
   ]
  },
  {
   "cell_type": "code",
   "execution_count": 8,
   "metadata": {},
   "outputs": [],
   "source": [
    "# Create the config.yaml file\n",
    "with open('config.yaml', 'w') as f:\n",
    "  f.write('endpoint: \"https://thinh-vu-markdown-seo.hf.space/analyze\"\\n')\n",
    "  f.write('api_key: \"learn-anything-docusaurus\"\\n')"
   ]
  },
  {
   "cell_type": "code",
   "execution_count": 11,
   "metadata": {},
   "outputs": [
    {
     "name": "stderr",
     "output_type": "stream",
     "text": [
      "Python was not found; run without arguments to install from the Microsoft Store, or disable this shortcut from Settings > Manage App Execution Aliases.\n"
     ]
    }
   ],
   "source": [
    "!python3 -m hf_seo_analyzer.cli /workspaces/simple_docusaurus/blog"
   ]
  }
 ],
 "metadata": {
  "kernelspec": {
   "display_name": "Python 3",
   "language": "python",
   "name": "python3"
  },
  "language_info": {
   "codemirror_mode": {
    "name": "ipython",
    "version": 3
   },
   "file_extension": ".py",
   "mimetype": "text/x-python",
   "name": "python",
   "nbconvert_exporter": "python",
   "pygments_lexer": "ipython3",
   "version": "3.12.6"
  }
 },
 "nbformat": 4,
 "nbformat_minor": 2
}
